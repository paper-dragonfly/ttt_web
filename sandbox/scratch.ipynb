{
 "cells": [
  {
   "cell_type": "code",
   "execution_count": 9,
   "metadata": {},
   "outputs": [
    {
     "name": "stdout",
     "output_type": "stream",
     "text": [
      "{0: 0, 1: 0, 2: 0, 3: 0}\n",
      "{0: 0, 1: 1, 2: 0, 3: 0}\n",
      "0\n",
      "1\n",
      "0\n",
      "0\n"
     ]
    }
   ],
   "source": [
    "row_dict = {}\n",
    "col_dict = {}\n",
    "for i in range(4):\n",
    "    row_dict[i] = 0\n",
    "    col_dict[i] = 0\n",
    "print(row_dict)\n",
    "\n",
    "row_dict[1]+=1\n",
    "print(row_dict)\n",
    "for key in row_dict:\n",
    "    print(row_dict[key])\n"
   ]
  },
  {
   "cell_type": "code",
   "execution_count": 12,
   "metadata": {},
   "outputs": [
    {
     "name": "stdout",
     "output_type": "stream",
     "text": [
      "['0,0', '1,1', '2,2']\n",
      "['2,0', '1,1', '0,2']\n"
     ]
    }
   ],
   "source": [
    "board_size=3\n",
    "di_win1 = []\n",
    "di_win2 = []\n",
    "rev = board_size - 1\n",
    "for i in range(board_size):\n",
    "    di_win1.append(f\"{i},{i}\")\n",
    "    di_win2.append(f\"{rev-i},{i}\")\n",
    "print(di_win1)\n",
    "print(di_win2)\n",
    "\n"
   ]
  },
  {
   "cell_type": "code",
   "execution_count": 15,
   "metadata": {},
   "outputs": [
    {
     "data": {
      "text/plain": [
       "{'00', '02', '12'}"
      ]
     },
     "execution_count": 15,
     "metadata": {},
     "output_type": "execute_result"
    }
   ],
   "source": [
    "player_moves=[[0,0],[1,2],[0,2]]\n",
    "player_moves_str:set = set()\n",
    "for coordinate in player_moves:\n",
    "    player_moves_str.add(f\"{coordinate[0]},{coordinate[1]}\")\n",
    "player_moves_str"
   ]
  },
  {
   "cell_type": "code",
   "execution_count": 18,
   "metadata": {},
   "outputs": [
    {
     "name": "stdout",
     "output_type": "stream",
     "text": [
      "True\n"
     ]
    }
   ],
   "source": [
    "player_moves=[[0,0],[2,2],[1,1],[0,2]]\n",
    "\n",
    "di_win1 = set()\n",
    "di_win2 = set()\n",
    "rev = board_size - 1\n",
    "for i in range(board_size):\n",
    "    di_win1.add(f\"{i},{i}\")\n",
    "    di_win2.add(f\"{rev-i},{i}\")\n",
    "player_moves_str:set = set()\n",
    "for coordinate in player_moves:\n",
    "    player_moves_str.add(f\"{coordinate[0]},{coordinate[1]}\")\n",
    "if di_win1.issubset(player_moves_str) or di_win2.issubset(player_moves_str):\n",
    "    print(True)"
   ]
  },
  {
   "cell_type": "code",
   "execution_count": 6,
   "metadata": {},
   "outputs": [
    {
     "name": "stdout",
     "output_type": "stream",
     "text": [
      "True\n"
     ]
    }
   ],
   "source": [
    "d = {'a' : 2}\n",
    "\n",
    "# print(d.keys())\n",
    "if 'a' in d.keys():\n",
    "    print(True)\n"
   ]
  },
  {
   "cell_type": "code",
   "execution_count": 24,
   "metadata": {},
   "outputs": [
    {
     "name": "stdout",
     "output_type": "stream",
     "text": [
      "True\n",
      "False\n"
     ]
    }
   ],
   "source": [
    "move = 'F2'\n",
    "print(int(move[1]) in [1,2,3,4])\n",
    "if move[0] in ['A','B','C','D'] and int(move[1]) in [0,1,2,3]:\n",
    "    print(True)\n",
    "else:\n",
    "    print(False)\n"
   ]
  },
  {
   "cell_type": "code",
   "execution_count": 27,
   "metadata": {},
   "outputs": [
    {
     "name": "stdout",
     "output_type": "stream",
     "text": [
      "['/Users/katcha/NiCode_Academy/tick_tack_toe/ttt_web/sandbox', '/Library/Frameworks/Python.framework/Versions/3.9/lib/python39.zip', '/Library/Frameworks/Python.framework/Versions/3.9/lib/python3.9', '/Library/Frameworks/Python.framework/Versions/3.9/lib/python3.9/lib-dynload', '', '/Users/katcha/.venvs/lpthw/lib/python3.9/site-packages', '/Library/Frameworks/Python.framework/Versions/3.9/lib/python3.9/site-packages']\n"
     ]
    }
   ],
   "source": [
    "import sys\n",
    "print(sys.path)"
   ]
  },
  {
   "cell_type": "code",
   "execution_count": 34,
   "metadata": {},
   "outputs": [
    {
     "name": "stdout",
     "output_type": "stream",
     "text": [
      "j {\"name\": \"game1\"}\n"
     ]
    },
    {
     "data": {
      "text/plain": [
       "{'name': 'game1'}"
      ]
     },
     "execution_count": 34,
     "metadata": {},
     "output_type": "execute_result"
    }
   ],
   "source": [
    "import json\n",
    "s = {'name': 'game1'}\n",
    "j = json.dumps(s)\n",
    "print('j', j)\n",
    "x = json.loads(j)\n",
    "x"
   ]
  },
  {
   "cell_type": "code",
   "execution_count": 36,
   "metadata": {},
   "outputs": [
    {
     "name": "stdout",
     "output_type": "stream",
     "text": [
      "False\n"
     ]
    }
   ],
   "source": [
    "i = input(\"> \")\n",
    "if i == \"\":\n",
    "    print(True)\n",
    "else:\n",
    "    print(False)"
   ]
  }
 ],
 "metadata": {
  "interpreter": {
   "hash": "4958416e6a983190c29994a2acc01cbfac5801240f55e1c2efdc6a5adb47ff9d"
  },
  "kernelspec": {
   "display_name": "Python 3.9.6 ('lpthw')",
   "language": "python",
   "name": "python3"
  },
  "language_info": {
   "codemirror_mode": {
    "name": "ipython",
    "version": 3
   },
   "file_extension": ".py",
   "mimetype": "text/x-python",
   "name": "python",
   "nbconvert_exporter": "python",
   "pygments_lexer": "ipython3",
   "version": "3.9.6"
  },
  "orig_nbformat": 4
 },
 "nbformat": 4,
 "nbformat_minor": 2
}
