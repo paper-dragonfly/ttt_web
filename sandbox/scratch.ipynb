{
 "cells": [
  {
   "cell_type": "code",
   "execution_count": 9,
   "metadata": {},
   "outputs": [
    {
     "name": "stdout",
     "output_type": "stream",
     "text": [
      "{0: 0, 1: 0, 2: 0, 3: 0}\n",
      "{0: 0, 1: 1, 2: 0, 3: 0}\n",
      "0\n",
      "1\n",
      "0\n",
      "0\n"
     ]
    }
   ],
   "source": [
    "row_dict = {}\n",
    "col_dict = {}\n",
    "for i in range(4):\n",
    "    row_dict[i] = 0\n",
    "    col_dict[i] = 0\n",
    "print(row_dict)\n",
    "\n",
    "row_dict[1]+=1\n",
    "print(row_dict)\n",
    "for key in row_dict:\n",
    "    print(row_dict[key])\n"
   ]
  },
  {
   "cell_type": "code",
   "execution_count": 12,
   "metadata": {},
   "outputs": [
    {
     "name": "stdout",
     "output_type": "stream",
     "text": [
      "['0,0', '1,1', '2,2']\n",
      "['2,0', '1,1', '0,2']\n"
     ]
    }
   ],
   "source": [
    "board_size=3\n",
    "di_win1 = []\n",
    "di_win2 = []\n",
    "rev = board_size - 1\n",
    "for i in range(board_size):\n",
    "    di_win1.append(f\"{i},{i}\")\n",
    "    di_win2.append(f\"{rev-i},{i}\")\n",
    "print(di_win1)\n",
    "print(di_win2)\n",
    "\n"
   ]
  },
  {
   "cell_type": "code",
   "execution_count": 15,
   "metadata": {},
   "outputs": [
    {
     "data": {
      "text/plain": [
       "{'00', '02', '12'}"
      ]
     },
     "execution_count": 15,
     "metadata": {},
     "output_type": "execute_result"
    }
   ],
   "source": [
    "player_moves=[[0,0],[1,2],[0,2]]\n",
    "player_moves_str:set = set()\n",
    "for coordinate in player_moves:\n",
    "    player_moves_str.add(f\"{coordinate[0]},{coordinate[1]}\")\n",
    "player_moves_str"
   ]
  },
  {
   "cell_type": "code",
   "execution_count": 18,
   "metadata": {},
   "outputs": [
    {
     "name": "stdout",
     "output_type": "stream",
     "text": [
      "True\n"
     ]
    }
   ],
   "source": [
    "player_moves=[[0,0],[2,2],[1,1],[0,2]]\n",
    "\n",
    "di_win1 = set()\n",
    "di_win2 = set()\n",
    "rev = board_size - 1\n",
    "for i in range(board_size):\n",
    "    di_win1.add(f\"{i},{i}\")\n",
    "    di_win2.add(f\"{rev-i},{i}\")\n",
    "player_moves_str:set = set()\n",
    "for coordinate in player_moves:\n",
    "    player_moves_str.add(f\"{coordinate[0]},{coordinate[1]}\")\n",
    "if di_win1.issubset(player_moves_str) or di_win2.issubset(player_moves_str):\n",
    "    print(True)"
   ]
  },
  {
   "cell_type": "code",
   "execution_count": 6,
   "metadata": {},
   "outputs": [
    {
     "name": "stdout",
     "output_type": "stream",
     "text": [
      "True\n"
     ]
    }
   ],
   "source": [
    "d = {'a' : 2}\n",
    "\n",
    "# print(d.keys())\n",
    "if 'a' in d.keys():\n",
    "    print(True)\n"
   ]
  },
  {
   "cell_type": "code",
   "execution_count": 24,
   "metadata": {},
   "outputs": [
    {
     "name": "stdout",
     "output_type": "stream",
     "text": [
      "True\n",
      "False\n"
     ]
    }
   ],
   "source": [
    "move = 'F2'\n",
    "print(int(move[1]) in [1,2,3,4])\n",
    "if move[0] in ['A','B','C','D'] and int(move[1]) in [0,1,2,3]:\n",
    "    print(True)\n",
    "else:\n",
    "    print(False)\n"
   ]
  },
  {
   "cell_type": "code",
   "execution_count": 27,
   "metadata": {},
   "outputs": [
    {
     "name": "stdout",
     "output_type": "stream",
     "text": [
      "['/Users/katcha/NiCode_Academy/tick_tack_toe/ttt_web/sandbox', '/Library/Frameworks/Python.framework/Versions/3.9/lib/python39.zip', '/Library/Frameworks/Python.framework/Versions/3.9/lib/python3.9', '/Library/Frameworks/Python.framework/Versions/3.9/lib/python3.9/lib-dynload', '', '/Users/katcha/.venvs/lpthw/lib/python3.9/site-packages', '/Library/Frameworks/Python.framework/Versions/3.9/lib/python3.9/site-packages']\n"
     ]
    }
   ],
   "source": [
    "import sys\n",
    "print(sys.path)"
   ]
  },
  {
   "cell_type": "code",
   "execution_count": 34,
   "metadata": {},
   "outputs": [
    {
     "name": "stdout",
     "output_type": "stream",
     "text": [
      "j {\"name\": \"game1\"}\n"
     ]
    },
    {
     "data": {
      "text/plain": [
       "{'name': 'game1'}"
      ]
     },
     "execution_count": 34,
     "metadata": {},
     "output_type": "execute_result"
    }
   ],
   "source": [
    "import json\n",
    "s = {'name': 'game1'}\n",
    "j = json.dumps(s)\n",
    "print('j', j)\n",
    "x = json.loads(j)\n",
    "x"
   ]
  },
  {
   "cell_type": "code",
   "execution_count": 38,
   "metadata": {},
   "outputs": [
    {
     "name": "stdout",
     "output_type": "stream",
     "text": [
      "done\n"
     ]
    }
   ],
   "source": [
    "x = 10\n",
    "while x < 5:\n",
    "    x += 1\n",
    "    print(\"#\")\n",
    "print('done')"
   ]
  },
  {
   "cell_type": "code",
   "execution_count": 52,
   "metadata": {},
   "outputs": [
    {
     "name": "stdout",
     "output_type": "stream",
     "text": [
      "True\n"
     ]
    }
   ],
   "source": [
    "d = {'a':5, 'b':6}\n",
    "x = 5\n",
    "\n",
    "if x in d.values():\n",
    "    print(True)\n",
    "else:\n",
    "    print(False)\n"
   ]
  },
  {
   "cell_type": "code",
   "execution_count": 57,
   "metadata": {},
   "outputs": [],
   "source": [
    "l = [{'a':5,'b':6}, {'a':2,'b':3}]\n",
    "x= 10\n",
    "# if x in l:\n",
    "#     print(True)\n",
    "# else:\n",
    "#     print(False)\n",
    "\n",
    "for d in l:\n",
    "    if x in d.values():\n",
    "        print(True)\n",
    "    "
   ]
  },
  {
   "cell_type": "code",
   "execution_count": 4,
   "metadata": {},
   "outputs": [
    {
     "name": "stdout",
     "output_type": "stream",
     "text": [
      "SELECT * FROM workout_log WHERE id=%s AND time=%s AND date=%s\n"
     ]
    }
   ],
   "source": [
    "d = {'id':4, 'time':5, 'date':'2000-01-01'}\n",
    "s = 'SELECT * FROM workout_log WHERE '\n",
    "l = len(d) \n",
    "i = 1\n",
    "for key in d:\n",
    "    if i < l:\n",
    "        s+= key\n",
    "        s+= '=%s AND '\n",
    "    else:\n",
    "        s+= key\n",
    "        s+= '=%s'\n",
    "    i += 1\n",
    "        \n",
    "\n",
    "\n",
    "print(s)"
   ]
  },
  {
   "cell_type": "code",
   "execution_count": 2,
   "metadata": {},
   "outputs": [
    {
     "data": {
      "text/plain": [
       "3"
      ]
     },
     "execution_count": 2,
     "metadata": {},
     "output_type": "execute_result"
    }
   ],
   "source": [
    "d = {'id':4, 'time':5, 'date':'2000-01-01'}\n",
    "len(d)"
   ]
  },
  {
   "cell_type": "code",
   "execution_count": 29,
   "metadata": {},
   "outputs": [
    {
     "name": "stdout",
     "output_type": "stream",
     "text": [
      "1\n"
     ]
    }
   ],
   "source": [
    "import re\n",
    "\n",
    "txt = \"hello planet\"\n",
    "date = '2022-01-01'\n",
    "f = 'hh:mm:ss.dd'\n",
    "dur = '01:30:00.00'\n",
    "d = '01:31:59'\n",
    "dd = '02:45:22.09'\n",
    "\n",
    "x = re.findall(\"he.{2}o\", txt)\n",
    "y = re.findall(\"\\d\\d\\d\\d-0*[0-12]-0*[0-31]\", date)\n",
    "z = re.findall(\"0*[0-12]:0*[0-59]:0*[0-59].0*[0-9]\",dur)\n",
    "a = re.findall('0*[0-12]0*:0*[0-59]0*:0*[0-59]0*',d)\n",
    "b = re.findall('[0-59]',dd)\n",
    "aa = re.findall(\"[0-2]\\d:[0-5]\\d:[0-5]\\d.\\d\\d\",dd)\n",
    "    \n",
    "print(len(aa))"
   ]
  },
  {
   "cell_type": "code",
   "execution_count": 31,
   "metadata": {},
   "outputs": [
    {
     "name": "stdout",
     "output_type": "stream",
     "text": [
      "6\n"
     ]
    }
   ],
   "source": [
    "def f(x):\n",
    "    while x != 6:\n",
    "        return 'not 6'\n",
    "    return '6'\n",
    "\n",
    "y = f(6)\n",
    "print(y)"
   ]
  },
  {
   "cell_type": "code",
   "execution_count": 40,
   "metadata": {},
   "outputs": [
    {
     "name": "stdout",
     "output_type": "stream",
     "text": [
      "month out of range\n",
      "day out of range\n"
     ]
    }
   ],
   "source": [
    "import re\n",
    "def input_date(prompt_str):\n",
    "    user_input = input(prompt_str)\n",
    "    if user_input == \"\":\n",
    "        return user_input\n",
    "    #yyyy-mm-dd\n",
    "    v = False # Question: v never becomes True but it seems to be doing its job...is this the right way to do this?\n",
    "    while not v: \n",
    "        # if input matches formatting\n",
    "        if len(re.findall('\\d\\d\\d\\d-[0-1]\\d-[0-3]\\d', user_input)) == 1:\n",
    "            # if month a real month \n",
    "            if 0<int(user_input[5:7])<=12:\n",
    "                # if month has 31 days\n",
    "                if user_input[5:7] in ['01','03','05','07','08','10','12']:\n",
    "                    #if day valid\n",
    "                    if 0<int(user_input[8:10])<=31:\n",
    "                        return user_input\n",
    "                    else:\n",
    "                        print(\"day out of range\")\n",
    "                #if month has 30 days\n",
    "                elif user_input[5:7] in ['04','06','09','11']:\n",
    "                    #if day valid\n",
    "                    if 0<int(user_input[8:10])<=30:\n",
    "                        return user_input\n",
    "                    else:\n",
    "                        print(\"day out of range\")\n",
    "                # if febuary\n",
    "                elif user_input[5:7] == '02':\n",
    "                    #if day valid\n",
    "                    if 0<int(user_input[8:10])<=28:\n",
    "                        return user_input\n",
    "                    else:\n",
    "                        print('day out of range')\n",
    "            # month not real month\n",
    "            else:\n",
    "                print('month out of range')\n",
    "        else: \n",
    "            print('Must use yyyy-mm-dd formatting')\n",
    "        user_input = input(\"Date (yyyy-mm-dd): \")\n",
    "\n",
    "ui = input_date('date yyyy-mm-dd')"
   ]
  },
  {
   "cell_type": "code",
   "execution_count": 50,
   "metadata": {},
   "outputs": [
    {
     "name": "stdout",
     "output_type": "stream",
     "text": [
      "n\n"
     ]
    }
   ],
   "source": [
    "s = '21.a'\n",
    "d = s[0:2]\n",
    "if int(s[0:2]) < 20:\n",
    "    print('y')\n",
    "else:\n",
    "    print('n')\n",
    "\n"
   ]
  }
 ],
 "metadata": {
  "interpreter": {
   "hash": "4958416e6a983190c29994a2acc01cbfac5801240f55e1c2efdc6a5adb47ff9d"
  },
  "kernelspec": {
   "display_name": "Python 3.9.6 ('lpthw')",
   "language": "python",
   "name": "python3"
  },
  "language_info": {
   "codemirror_mode": {
    "name": "ipython",
    "version": 3
   },
   "file_extension": ".py",
   "mimetype": "text/x-python",
   "name": "python",
   "nbconvert_exporter": "python",
   "pygments_lexer": "ipython3",
   "version": "3.9.6"
  },
  "orig_nbformat": 4
 },
 "nbformat": 4,
 "nbformat_minor": 2
}
